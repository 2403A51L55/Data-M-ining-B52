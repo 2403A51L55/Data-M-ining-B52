{
  "nbformat": 4,
  "nbformat_minor": 0,
  "metadata": {
    "colab": {
      "provenance": [],
      "authorship_tag": "ABX9TyOakYShz/HzLpTgxNxfFrDL",
      "include_colab_link": true
    },
    "kernelspec": {
      "name": "python3",
      "display_name": "Python 3"
    },
    "language_info": {
      "name": "python"
    }
  },
  "cells": [
    {
      "cell_type": "markdown",
      "metadata": {
        "id": "view-in-github",
        "colab_type": "text"
      },
      "source": [
        "<a href=\"https://colab.research.google.com/github/2403A51L55/Data-M-ining-B52/blob/main/lab07.ipynb\" target=\"_parent\"><img src=\"https://colab.research.google.com/assets/colab-badge.svg\" alt=\"Open In Colab\"/></a>"
      ]
    },
    {
      "cell_type": "code",
      "execution_count": null,
      "metadata": {
        "id": "FhyUYT6bixOT"
      },
      "outputs": [],
      "source": [
        "import pandas as pd\n",
        "from sklearn.preprocessing import LabelEncoder, OneHotEncoder"
      ]
    },
    {
      "cell_type": "code",
      "source": [
        "data = {'Category': ['A', 'B', 'C', 'A', 'B']}\n",
        "df = pd.DataFrame(data)\n",
        "print(df)"
      ],
      "metadata": {
        "colab": {
          "base_uri": "https://localhost:8080/"
        },
        "id": "LgeGP5TTjABN",
        "outputId": "760dd55c-44d8-4ba3-94c5-fe7f01137767"
      },
      "execution_count": null,
      "outputs": [
        {
          "output_type": "stream",
          "name": "stdout",
          "text": [
            "  Category\n",
            "0        A\n",
            "1        B\n",
            "2        C\n",
            "3        A\n",
            "4        B\n"
          ]
        }
      ]
    },
    {
      "cell_type": "code",
      "source": [
        "label_encoder = LabelEncoder()\n",
        "df['Label_Encoded'] = label_encoder.fit_transform(df['Category'])\n",
        "print(df)"
      ],
      "metadata": {
        "colab": {
          "base_uri": "https://localhost:8080/"
        },
        "id": "oe-NQng7jQHy",
        "outputId": "a5210bbc-be25-4209-aa0b-4559f7555195"
      },
      "execution_count": null,
      "outputs": [
        {
          "output_type": "stream",
          "name": "stdout",
          "text": [
            "  Category  Label_Encoded\n",
            "0        A              0\n",
            "1        B              1\n",
            "2        C              2\n",
            "3        A              0\n",
            "4        B              1\n"
          ]
        }
      ]
    },
    {
      "cell_type": "code",
      "source": [
        "one_hot_encoded = pd.get_dummies(df['Category'], prefix='Category')\n",
        "df = pd.concat([df, one_hot_encoded], axis=1)\n",
        "print(df)"
      ],
      "metadata": {
        "colab": {
          "base_uri": "https://localhost:8080/"
        },
        "id": "sQFS1-9HjUat",
        "outputId": "b6f1037e-eb7b-433a-8fb1-3cd24cc833bb"
      },
      "execution_count": null,
      "outputs": [
        {
          "output_type": "stream",
          "name": "stdout",
          "text": [
            "  Category  Label_Encoded  Category_A  Category_B  Category_C\n",
            "0        A              0        True       False       False\n",
            "1        B              1       False        True       False\n",
            "2        C              2       False       False        True\n",
            "3        A              0        True       False       False\n",
            "4        B              1       False        True       False\n"
          ]
        }
      ]
    },
    {
      "cell_type": "code",
      "source": [
        "import pandas as pd\n",
        "from datetime import datetime # Import the datetime module\n",
        "\n",
        "data = {'Name': ['Ganesh', 'Sankeerthana'], 'Date_of_Birth': ['2003-05-22', '2005-03-30']}\n",
        "df = pd.DataFrame(data)\n",
        "df['Date_of_Birth'] = pd.to_datetime(df['Date_of_Birth'])\n",
        "current_year = datetime.now().year\n",
        "df['Age'] = current_year - df['Date_of_Birth'].dt.year\n",
        "print(df)"
      ],
      "metadata": {
        "colab": {
          "base_uri": "https://localhost:8080/"
        },
        "id": "lUO34ClkkOc5",
        "outputId": "5d1fed23-25ca-4c41-83d1-53e951bc70c8"
      },
      "execution_count": null,
      "outputs": [
        {
          "output_type": "stream",
          "name": "stdout",
          "text": [
            "           Name Date_of_Birth  Age\n",
            "0        Ganesh    2003-05-22   22\n",
            "1  Sankeerthana    2005-03-30   20\n"
          ]
        }
      ]
    },
    {
      "cell_type": "code",
      "source": [
        "data = {'category': ['A', 'B', 'C', 'A', 'B'],\n",
        "        'values':[10,20,10,30,40]}\n",
        "df = pd.DataFrame(data)\n"
      ],
      "metadata": {
        "id": "eZChoeQ9kxGD"
      },
      "execution_count": 12,
      "outputs": []
    },
    {
      "cell_type": "code",
      "source": [
        "grouped = df.groupby('category').agg({'values': ['sum','mean']})\n",
        "print(\"Grouped Data:\\n\",grouped)\n"
      ],
      "metadata": {
        "colab": {
          "base_uri": "https://localhost:8080/"
        },
        "id": "W0onyr1KluUb",
        "outputId": "cdd7d3b9-e066-42f0-872d-73e6d57feeb4"
      },
      "execution_count": 15,
      "outputs": [
        {
          "output_type": "stream",
          "name": "stdout",
          "text": [
            "Grouped Data:\n",
            "          values      \n",
            "            sum  mean\n",
            "category             \n",
            "A            40  20.0\n",
            "B            60  30.0\n",
            "C            10  10.0\n"
          ]
        }
      ]
    },
    {
      "cell_type": "code",
      "source": [
        "pivot = df.pivot_table(index='category', values='values', aggfunc=['sum','mean'])\n",
        "print(\"\\nPivot Table:\\n\",pivot)"
      ],
      "metadata": {
        "colab": {
          "base_uri": "https://localhost:8080/"
        },
        "id": "mvRBRxoDmkjl",
        "outputId": "7c4e127d-92d2-48f9-8f8b-796685dbe686"
      },
      "execution_count": 16,
      "outputs": [
        {
          "output_type": "stream",
          "name": "stdout",
          "text": [
            "\n",
            "Pivot Table:\n",
            "             sum   mean\n",
            "         values values\n",
            "category              \n",
            "A            40   20.0\n",
            "B            60   30.0\n",
            "C            10   10.0\n"
          ]
        }
      ]
    }
  ]
}